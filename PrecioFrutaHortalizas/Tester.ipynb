{
 "cells": [
  {
   "cell_type": "code",
   "execution_count": 1,
   "metadata": {},
   "outputs": [],
   "source": [
    "import Servidor as S\n",
    "#S.lsExcel()"
   ]
  },
  {
   "cell_type": "code",
   "execution_count": 2,
   "metadata": {
    "scrolled": true
   },
   "outputs": [
    {
     "name": "stdout",
     "output_type": "stream",
     "text": [
      "True\n",
      "https://www.odepa.gob.cl/wp-content/uploads/2021/05/Boletin_Diario_de_Frutas_y_Hortalizas_20210519.xlsx\n",
      "https://www.odepa.gob.cl/wp-content/uploads/2021/05/Boletin_Diario_de_Frutas_y_Hortalizas_20210519.xlsx\n",
      "\"Agrícola del Norte S.A. de Arica\"\n",
      "\"Comercializadora del Agro de Limarí\"\n",
      "\"Femacal de La Calera\"\n",
      "\"Feria Lagunitas de Puerto Montt\"\n",
      "\"Macroferia Regional de Talca\"\n",
      "\"Mapocho venta directa de Santiago\"\n",
      "\"Mercado Mayorista Lo Valledor de Santiago\"\n",
      "\"Terminal Hortofrutícola Agro Chillán\"\n",
      "\"Terminal La Palmera de La Serena\"\n",
      "\"Vega Central Mapocho de Santiago\"\n",
      "\"Vega Modelo de Temuco\"\n",
      "\"Vega Monumental Concepción\"\n",
      "20201124.xlsx\n",
      "20201125.xlsx\n",
      "20201126.xlsx\n",
      "20201127.xlsx\n",
      "20201130.xlsx\n",
      "20201201.xlsx\n",
      "20201202.xlsx\n",
      "20201203.xlsx\n",
      "20201204.xlsx\n",
      "20201207.xlsx\n",
      "20201209.xlsx\n",
      "20201210.xlsx\n",
      "20201211.xlsx\n",
      "20201214.xlsx\n",
      "20201216.xlsx\n",
      "20201221.xlsx\n",
      "20201222.xlsx\n",
      "20201223.xlsx\n",
      "20201224.xlsx\n",
      "20201228.xlsx\n",
      "20201229.xlsx\n",
      "20201230.xlsx\n",
      "20201231.xlsx\n",
      "20210104.xlsx\n",
      "20210105.xlsx\n",
      "20210106.xlsx\n",
      "20210107.xlsx\n",
      "20210108.xlsx\n",
      "20210112.xlsx\n",
      "20210113.xlsx\n",
      "20210114.xlsx\n",
      "20210115.xlsx\n",
      "20210118.xlsx\n",
      "20210119.xlsx\n",
      "20210120.xlsx\n",
      "20210121.xlsx\n",
      "20210122.xlsx\n",
      "20210125.xlsx\n",
      "20210126.xlsx\n",
      "20210127.xlsx\n",
      "20210128.xlsx\n",
      "20210129.xlsx\n",
      "20210202.xlsx\n",
      "20210203.xlsx\n",
      "20210204.xlsx\n",
      "20210205.xlsx\n",
      "20210208.xlsx\n",
      "20210209.xlsx\n",
      "20210210.xlsx\n",
      "20210211.xlsx\n",
      "20210212.xlsx\n",
      "20210215.xlsx\n",
      "20210216.xlsx\n",
      "20210217.xlsx\n",
      "20210218.xlsx\n",
      "20210219.xlsx\n",
      "20210222.xlsx\n",
      "20210223.xlsx\n",
      "20210224.xlsx\n",
      "20210225.xlsx\n",
      "20210226.xlsx\n",
      "20210302.xlsx\n",
      "20210303.xlsx\n",
      "20210304.xlsx\n",
      "20210305.xlsx\n",
      "20210308.xlsx\n",
      "20210309.xlsx\n",
      "20210310.xlsx\n",
      "20210311.xlsx\n",
      "20210312.xlsx\n",
      "20210315.xlsx\n",
      "20210316.xlsx\n",
      "20210317.xlsx\n",
      "20210318.xlsx\n",
      "20210319.xlsx\n",
      "20210322.xlsx\n",
      "20210323.xlsx\n",
      "20210324.xlsx\n",
      "20210325.xlsx\n",
      "20210326.xlsx\n",
      "20210329.xlsx\n",
      "20210330.xlsx\n",
      "20210331.xlsx\n",
      "20210405.xlsx\n",
      "20210406.xlsx\n",
      "20210407.xlsx\n",
      "20210408.xlsx\n",
      "20210409.xlsx\n",
      "20210412.xlsx\n",
      "20210413.xlsx\n",
      "20210414.xlsx\n",
      "20210415.xlsx\n",
      "20210416.xlsx\n",
      "20210419.xlsx\n",
      "20210420.xlsx\n",
      "20210421.xlsx\n",
      "20210422.xlsx\n",
      "20210423.xlsx\n",
      "20210426.xlsx\n",
      "20210427.xlsx\n",
      "20210428.xlsx\n",
      "20210429.xlsx\n",
      "20210430.xlsx\n",
      "20210503.xlsx\n",
      "20210504.xlsx\n",
      "20210505.xlsx\n",
      "20210506.xlsx\n",
      "20210507.xlsx\n",
      "20210510.xlsx\n",
      "20210511.xlsx\n",
      "20210512.xlsx\n",
      "20210513.xlsx\n",
      "20210514.xlsx\n",
      "20210517.xlsx\n",
      "20210518.xlsx\n",
      "20210519.xlsx\n",
      "Creando consolidado Hortalizas\n"
     ]
    },
    {
     "ename": "InterfaceError",
     "evalue": "('IM002', '[IM002] [Microsoft][ODBC Driver Manager] Data source name not found and no default driver specified (0) (SQLDriverConnect)')",
     "output_type": "error",
     "traceback": [
      "\u001b[1;31m---------------------------------------------------------------------------\u001b[0m",
      "\u001b[1;31mInterfaceError\u001b[0m                            Traceback (most recent call last)",
      "\u001b[1;32m<ipython-input-2-1b353c763173>\u001b[0m in \u001b[0;36m<module>\u001b[1;34m\u001b[0m\n\u001b[0;32m      1\u001b[0m \u001b[1;31m#S.Fecha_Actual_Fruta()\u001b[0m\u001b[1;33m\u001b[0m\u001b[1;33m\u001b[0m\u001b[1;33m\u001b[0m\u001b[0m\n\u001b[1;32m----> 2\u001b[1;33m \u001b[0mS\u001b[0m\u001b[1;33m.\u001b[0m\u001b[0mCiclo\u001b[0m\u001b[1;33m(\u001b[0m\u001b[1;33m)\u001b[0m\u001b[1;33m\u001b[0m\u001b[1;33m\u001b[0m\u001b[0m\n\u001b[0m\u001b[0;32m      3\u001b[0m \u001b[1;31m#S.Descargar_Archivos()\u001b[0m\u001b[1;33m\u001b[0m\u001b[1;33m\u001b[0m\u001b[1;33m\u001b[0m\u001b[0m\n",
      "\u001b[1;32m~\\Documents\\GitHub\\DATA-AGRO\\PrecioFrutaHortalizas\\Servidor.py\u001b[0m in \u001b[0;36mCiclo\u001b[1;34m()\u001b[0m\n\u001b[0;32m    512\u001b[0m         \u001b[0mActualizar_Datos\u001b[0m\u001b[1;33m(\u001b[0m\u001b[0mArchivos\u001b[0m\u001b[1;33m)\u001b[0m\u001b[1;33m\u001b[0m\u001b[1;33m\u001b[0m\u001b[0m\n\u001b[0;32m    513\u001b[0m         \u001b[0mguardarRepositorio\u001b[0m\u001b[1;33m(\u001b[0m\u001b[1;33m)\u001b[0m\u001b[1;33m\u001b[0m\u001b[1;33m\u001b[0m\u001b[0m\n\u001b[1;32m--> 514\u001b[1;33m         \u001b[0mconsolidadoHortaliza\u001b[0m\u001b[1;33m(\u001b[0m\u001b[1;33m)\u001b[0m\u001b[1;33m\u001b[0m\u001b[1;33m\u001b[0m\u001b[0m\n\u001b[0m\u001b[0;32m    515\u001b[0m         \u001b[0mconsolidadoFruta\u001b[0m\u001b[1;33m(\u001b[0m\u001b[1;33m)\u001b[0m\u001b[1;33m\u001b[0m\u001b[1;33m\u001b[0m\u001b[0m\n\u001b[0;32m    516\u001b[0m         \u001b[0mtime\u001b[0m\u001b[1;33m.\u001b[0m\u001b[0msleep\u001b[0m\u001b[1;33m(\u001b[0m\u001b[1;36m60\u001b[0m \u001b[1;33m*\u001b[0m \u001b[1;36m60\u001b[0m \u001b[1;33m*\u001b[0m \u001b[1;36m24\u001b[0m\u001b[1;33m)\u001b[0m\u001b[1;33m\u001b[0m\u001b[1;33m\u001b[0m\u001b[0m\n",
      "\u001b[1;32m~\\Documents\\GitHub\\DATA-AGRO\\PrecioFrutaHortalizas\\Servidor.py\u001b[0m in \u001b[0;36mconsolidadoHortaliza\u001b[1;34m()\u001b[0m\n\u001b[0;32m    380\u001b[0m     \u001b[0mdfH\u001b[0m \u001b[1;33m=\u001b[0m \u001b[0mpd\u001b[0m\u001b[1;33m.\u001b[0m\u001b[0mread_excel\u001b[0m\u001b[1;33m(\u001b[0m\u001b[1;34m\"Consolidado/HortalizaConsolidado.xlsx\"\u001b[0m\u001b[1;33m)\u001b[0m\u001b[1;33m\u001b[0m\u001b[1;33m\u001b[0m\u001b[0m\n\u001b[0;32m    381\u001b[0m \u001b[1;33m\u001b[0m\u001b[0m\n\u001b[1;32m--> 382\u001b[1;33m     \u001b[0mconection\u001b[0m \u001b[1;33m=\u001b[0m \u001b[0mpyodbc\u001b[0m\u001b[1;33m.\u001b[0m\u001b[0mconnect\u001b[0m\u001b[1;33m(\u001b[0m\u001b[1;34m\"Driver={ODBC Driver 17 for SQL Server};Server=sud-austral.database.windows.net;Database=graficos;uid=sudaustral;pwd=Sud123456789\"\u001b[0m\u001b[1;33m)\u001b[0m\u001b[1;33m\u001b[0m\u001b[1;33m\u001b[0m\u001b[0m\n\u001b[0m\u001b[0;32m    383\u001b[0m     \u001b[0mcursor\u001b[0m \u001b[1;33m=\u001b[0m \u001b[0mconection\u001b[0m\u001b[1;33m.\u001b[0m\u001b[0mcursor\u001b[0m\u001b[1;33m(\u001b[0m\u001b[1;33m)\u001b[0m\u001b[1;33m\u001b[0m\u001b[1;33m\u001b[0m\u001b[0m\n\u001b[0;32m    384\u001b[0m \u001b[1;33m\u001b[0m\u001b[0m\n",
      "\u001b[1;31mInterfaceError\u001b[0m: ('IM002', '[IM002] [Microsoft][ODBC Driver Manager] Data source name not found and no default driver specified (0) (SQLDriverConnect)')"
     ]
    }
   ],
   "source": [
    "#S.Fecha_Actual_Fruta()\n",
    "S.Ciclo()\n",
    "#S.Descargar_Archivos()"
   ]
  },
  {
   "cell_type": "code",
   "execution_count": null,
   "metadata": {},
   "outputs": [],
   "source": [
    "S.Descargar_Archivos()"
   ]
  },
  {
   "cell_type": "code",
   "execution_count": null,
   "metadata": {},
   "outputs": [],
   "source": [
    "fechaMaxima = S.Fecha_Actual_Fruta()\n",
    "fechaMaxima"
   ]
  },
  {
   "cell_type": "code",
   "execution_count": null,
   "metadata": {},
   "outputs": [],
   "source": [
    "import datetime\n",
    "import wget"
   ]
  },
  {
   "cell_type": "code",
   "execution_count": null,
   "metadata": {},
   "outputs": [],
   "source": [
    "import datetime\n",
    "import requests\n",
    "\n",
    "\n",
    "salida = []\n",
    "numero = 1\n",
    "flag = (fechaMaxima + datetime.timedelta(days = 0)).strftime(\"%Y%m%d\") != datetime.datetime.now().strftime(\"%Y%m%d\")\n",
    "print(flag)\n",
    "while flag:\n",
    "    annioDescarga = (fechaMaxima + datetime.timedelta(days = numero)).strftime(\"%Y\")\n",
    "    mesDescarga = (fechaMaxima + datetime.timedelta(days = numero)).strftime(\"%m\")\n",
    "    urlBase =  \"https://www.odepa.gob.cl/wp-content/uploads/\" + annioDescarga + \"/\" + mesDescarga + \"/Boletin_Diario_de_Frutas_y_Hortalizas_\"\n",
    "    fecha = (fechaMaxima + datetime.timedelta(days = numero)).strftime(\"%Y%m%d.xlsx\") \n",
    "    print(urlBase + fecha)\n",
    "    try:\n",
    "        myfile = requests.get(url)\n",
    "        #open(fecha, 'wb').write(myfile.content)\n",
    "        #wget.download(urlBase + fecha, fecha)\n",
    "        print(urlBase + fecha)\n",
    "        salida.append(fecha)\n",
    "    except:\n",
    "        pass\n",
    "\n",
    "    flag = (fechaMaxima + datetime.timedelta(days = numero)).strftime(\"%Y%m%d\") != datetime.datetime.now().strftime(\"%Y%m%d\")\n",
    "    numero = numero + 1"
   ]
  },
  {
   "cell_type": "code",
   "execution_count": null,
   "metadata": {},
   "outputs": [],
   "source": [
    "datetime.datetime.now().strftime(\"%Y%m%d\")"
   ]
  },
  {
   "cell_type": "code",
   "execution_count": null,
   "metadata": {},
   "outputs": [],
   "source": [
    "(fechaMaxima + datetime.timedelta(days = 0)).strftime(\"%Y%m%d\")"
   ]
  },
  {
   "cell_type": "code",
   "execution_count": null,
   "metadata": {},
   "outputs": [],
   "source": [
    "wget.download(\"https://www.odepa.gob.cl/wp-content/uploads/2020/12/Boletin_Diario_de_Frutas_y_Hortalizas_20201216.xlsx\", \"test.xlsx\")"
   ]
  },
  {
   "cell_type": "code",
   "execution_count": null,
   "metadata": {},
   "outputs": [],
   "source": [
    "import certifi\n",
    "certifi.where()"
   ]
  },
  {
   "cell_type": "code",
   "execution_count": null,
   "metadata": {},
   "outputs": [],
   "source": [
    "import requests\n",
    "\n",
    "url = 'https://www.odepa.gob.cl/wp-content/uploads/2020/12/Boletin_Diario_de_Frutas_y_Hortalizas_20201216.xlsx'\n",
    "print(urlBase + fecha)\n",
    "myfile = requests.get(urlBase + fecha)\n",
    "\n",
    "open(fecha, 'wb').write(myfile.content)"
   ]
  },
  {
   "cell_type": "code",
   "execution_count": null,
   "metadata": {},
   "outputs": [],
   "source": [
    "Archivos = S.Descargar_Archivos()\n",
    "#len(Archivos)\n",
    "#      Actualizar_Datos(Archivos)\n",
    "Archivos"
   ]
  },
  {
   "cell_type": "code",
   "execution_count": null,
   "metadata": {},
   "outputs": [],
   "source": [
    "Archivos = S.Actualizar_Datos(Archivos)"
   ]
  },
  {
   "cell_type": "code",
   "execution_count": null,
   "metadata": {},
   "outputs": [],
   "source": [
    "import openpyxl"
   ]
  },
  {
   "cell_type": "code",
   "execution_count": null,
   "metadata": {},
   "outputs": [],
   "source": [
    "for i in Archivos:\n",
    "    print(i)\n",
    "    wb = openpyxl.load_workbook(i)"
   ]
  },
  {
   "cell_type": "code",
   "execution_count": null,
   "metadata": {
    "scrolled": true
   },
   "outputs": [],
   "source": [
    "\n",
    "openpyxl.load_workbook('20201216.xlsx')"
   ]
  },
  {
   "cell_type": "code",
   "execution_count": null,
   "metadata": {},
   "outputs": [],
   "source": [
    "S.guardarRepositorio()"
   ]
  },
  {
   "cell_type": "code",
   "execution_count": null,
   "metadata": {},
   "outputs": [],
   "source": [
    "Archivos"
   ]
  },
  {
   "cell_type": "code",
   "execution_count": null,
   "metadata": {},
   "outputs": [],
   "source": [
    "S.Actualizar_Datos(Archivos)"
   ]
  },
  {
   "cell_type": "code",
   "execution_count": null,
   "metadata": {},
   "outputs": [],
   "source": [
    "openpyxl.load_workbook('20201216.xlsx')"
   ]
  },
  {
   "cell_type": "code",
   "execution_count": null,
   "metadata": {},
   "outputs": [],
   "source": []
  }
 ],
 "metadata": {
  "kernelspec": {
   "display_name": "Python 3",
   "language": "python",
   "name": "python3"
  },
  "language_info": {
   "codemirror_mode": {
    "name": "ipython",
    "version": 3
   },
   "file_extension": ".py",
   "mimetype": "text/x-python",
   "name": "python",
   "nbconvert_exporter": "python",
   "pygments_lexer": "ipython3",
   "version": "3.7.6"
  }
 },
 "nbformat": 4,
 "nbformat_minor": 4
}
