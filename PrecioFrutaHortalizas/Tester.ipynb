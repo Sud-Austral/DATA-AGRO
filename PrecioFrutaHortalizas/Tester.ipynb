{
 "cells": [
  {
   "cell_type": "code",
   "execution_count": 1,
   "metadata": {},
   "outputs": [],
   "source": [
    "import Servidor as S"
   ]
  },
  {
   "cell_type": "code",
   "execution_count": 2,
   "metadata": {},
   "outputs": [
    {
     "name": "stdout",
     "output_type": "stream",
     "text": [
      "True\n",
      "https://www.odepa.gob.cl/wp-content/uploads/2020/12/Boletin_Diario_de_Frutas_y_Hortalizas_20201224.xlsx\n",
      "https://www.odepa.gob.cl/wp-content/uploads/2020/12/Boletin_Diario_de_Frutas_y_Hortalizas_20201224.xlsx\n",
      "https://www.odepa.gob.cl/wp-content/uploads/2020/12/Boletin_Diario_de_Frutas_y_Hortalizas_20201225.xlsx\n",
      "https://www.odepa.gob.cl/wp-content/uploads/2020/12/Boletin_Diario_de_Frutas_y_Hortalizas_20201225.xlsx\n",
      "https://www.odepa.gob.cl/wp-content/uploads/2020/12/Boletin_Diario_de_Frutas_y_Hortalizas_20201226.xlsx\n",
      "https://www.odepa.gob.cl/wp-content/uploads/2020/12/Boletin_Diario_de_Frutas_y_Hortalizas_20201226.xlsx\n",
      "https://www.odepa.gob.cl/wp-content/uploads/2020/12/Boletin_Diario_de_Frutas_y_Hortalizas_20201227.xlsx\n",
      "https://www.odepa.gob.cl/wp-content/uploads/2020/12/Boletin_Diario_de_Frutas_y_Hortalizas_20201227.xlsx\n",
      "https://www.odepa.gob.cl/wp-content/uploads/2020/12/Boletin_Diario_de_Frutas_y_Hortalizas_20201228.xlsx\n",
      "https://www.odepa.gob.cl/wp-content/uploads/2020/12/Boletin_Diario_de_Frutas_y_Hortalizas_20201228.xlsx\n",
      "https://www.odepa.gob.cl/wp-content/uploads/2020/12/Boletin_Diario_de_Frutas_y_Hortalizas_20201229.xlsx\n",
      "https://www.odepa.gob.cl/wp-content/uploads/2020/12/Boletin_Diario_de_Frutas_y_Hortalizas_20201229.xlsx\n",
      "https://www.odepa.gob.cl/wp-content/uploads/2020/12/Boletin_Diario_de_Frutas_y_Hortalizas_20201230.xlsx\n",
      "https://www.odepa.gob.cl/wp-content/uploads/2020/12/Boletin_Diario_de_Frutas_y_Hortalizas_20201230.xlsx\n",
      "https://www.odepa.gob.cl/wp-content/uploads/2020/12/Boletin_Diario_de_Frutas_y_Hortalizas_20201231.xlsx\n",
      "https://www.odepa.gob.cl/wp-content/uploads/2020/12/Boletin_Diario_de_Frutas_y_Hortalizas_20201231.xlsx\n",
      "https://www.odepa.gob.cl/wp-content/uploads/2021/01/Boletin_Diario_de_Frutas_y_Hortalizas_20210101.xlsx\n",
      "https://www.odepa.gob.cl/wp-content/uploads/2021/01/Boletin_Diario_de_Frutas_y_Hortalizas_20210101.xlsx\n",
      "https://www.odepa.gob.cl/wp-content/uploads/2021/01/Boletin_Diario_de_Frutas_y_Hortalizas_20210102.xlsx\n",
      "https://www.odepa.gob.cl/wp-content/uploads/2021/01/Boletin_Diario_de_Frutas_y_Hortalizas_20210102.xlsx\n",
      "https://www.odepa.gob.cl/wp-content/uploads/2021/01/Boletin_Diario_de_Frutas_y_Hortalizas_20210103.xlsx\n",
      "https://www.odepa.gob.cl/wp-content/uploads/2021/01/Boletin_Diario_de_Frutas_y_Hortalizas_20210103.xlsx\n",
      "https://www.odepa.gob.cl/wp-content/uploads/2021/01/Boletin_Diario_de_Frutas_y_Hortalizas_20210104.xlsx\n",
      "https://www.odepa.gob.cl/wp-content/uploads/2021/01/Boletin_Diario_de_Frutas_y_Hortalizas_20210104.xlsx\n",
      "https://www.odepa.gob.cl/wp-content/uploads/2021/01/Boletin_Diario_de_Frutas_y_Hortalizas_20210105.xlsx\n",
      "https://www.odepa.gob.cl/wp-content/uploads/2021/01/Boletin_Diario_de_Frutas_y_Hortalizas_20210105.xlsx\n",
      "https://www.odepa.gob.cl/wp-content/uploads/2021/01/Boletin_Diario_de_Frutas_y_Hortalizas_20210106.xlsx\n",
      "https://www.odepa.gob.cl/wp-content/uploads/2021/01/Boletin_Diario_de_Frutas_y_Hortalizas_20210106.xlsx\n",
      "https://www.odepa.gob.cl/wp-content/uploads/2021/01/Boletin_Diario_de_Frutas_y_Hortalizas_20210107.xlsx\n",
      "https://www.odepa.gob.cl/wp-content/uploads/2021/01/Boletin_Diario_de_Frutas_y_Hortalizas_20210107.xlsx\n",
      "https://www.odepa.gob.cl/wp-content/uploads/2021/01/Boletin_Diario_de_Frutas_y_Hortalizas_20210108.xlsx\n",
      "https://www.odepa.gob.cl/wp-content/uploads/2021/01/Boletin_Diario_de_Frutas_y_Hortalizas_20210108.xlsx\n",
      "https://www.odepa.gob.cl/wp-content/uploads/2021/01/Boletin_Diario_de_Frutas_y_Hortalizas_20210109.xlsx\n",
      "https://www.odepa.gob.cl/wp-content/uploads/2021/01/Boletin_Diario_de_Frutas_y_Hortalizas_20210109.xlsx\n",
      "https://www.odepa.gob.cl/wp-content/uploads/2021/01/Boletin_Diario_de_Frutas_y_Hortalizas_20210110.xlsx\n",
      "https://www.odepa.gob.cl/wp-content/uploads/2021/01/Boletin_Diario_de_Frutas_y_Hortalizas_20210110.xlsx\n",
      "https://www.odepa.gob.cl/wp-content/uploads/2021/01/Boletin_Diario_de_Frutas_y_Hortalizas_20210111.xlsx\n",
      "https://www.odepa.gob.cl/wp-content/uploads/2021/01/Boletin_Diario_de_Frutas_y_Hortalizas_20210111.xlsx\n",
      "https://www.odepa.gob.cl/wp-content/uploads/2021/01/Boletin_Diario_de_Frutas_y_Hortalizas_20210112.xlsx\n",
      "https://www.odepa.gob.cl/wp-content/uploads/2021/01/Boletin_Diario_de_Frutas_y_Hortalizas_20210112.xlsx\n",
      "https://www.odepa.gob.cl/wp-content/uploads/2021/01/Boletin_Diario_de_Frutas_y_Hortalizas_20210113.xlsx\n",
      "https://www.odepa.gob.cl/wp-content/uploads/2021/01/Boletin_Diario_de_Frutas_y_Hortalizas_20210113.xlsx\n",
      "\"Agrícola del Norte S.A. de Arica\"\n",
      "\"Comercializadora del Agro de Limarí\"\n",
      "\"Femacal de La Calera\"\n",
      "\"Feria Lagunitas de Puerto Montt\"\n",
      "\"Macroferia Regional de Talca\"\n",
      "\"Mapocho venta directa de Santiago\"\n",
      "\"Mercado Mayorista Lo Valledor de Santiago\"\n",
      "\"Terminal Hortofrutícola Agro Chillán\"\n",
      "\"Terminal La Palmera de La Serena\"\n",
      "\"Vega Central Mapocho de Santiago\"\n",
      "\"Vega Modelo de Temuco\"\n",
      "\"Vega Monumental Concepción\"\n",
      "20201224.xlsx\n"
     ]
    },
    {
     "ename": "KeyError",
     "evalue": "'$/caja 20 kilos empedrada'",
     "output_type": "error",
     "traceback": [
      "\u001b[1;31m---------------------------------------------------------------------------\u001b[0m",
      "\u001b[1;31mKeyError\u001b[0m                                  Traceback (most recent call last)",
      "\u001b[1;32m<ipython-input-2-1b353c763173>\u001b[0m in \u001b[0;36m<module>\u001b[1;34m\u001b[0m\n\u001b[0;32m      1\u001b[0m \u001b[1;31m#S.Fecha_Actual_Fruta()\u001b[0m\u001b[1;33m\u001b[0m\u001b[1;33m\u001b[0m\u001b[1;33m\u001b[0m\u001b[0m\n\u001b[1;32m----> 2\u001b[1;33m \u001b[0mS\u001b[0m\u001b[1;33m.\u001b[0m\u001b[0mCiclo\u001b[0m\u001b[1;33m(\u001b[0m\u001b[1;33m)\u001b[0m\u001b[1;33m\u001b[0m\u001b[1;33m\u001b[0m\u001b[0m\n\u001b[0m\u001b[0;32m      3\u001b[0m \u001b[1;31m#S.Descargar_Archivos()\u001b[0m\u001b[1;33m\u001b[0m\u001b[1;33m\u001b[0m\u001b[1;33m\u001b[0m\u001b[0m\n",
      "\u001b[1;32m~\\Documents\\GitHub\\DATA-AGRO\\PrecioFrutaHortalizas\\Servidor.py\u001b[0m in \u001b[0;36mCiclo\u001b[1;34m()\u001b[0m\n\u001b[0;32m    274\u001b[0m     \u001b[0mArchivos\u001b[0m \u001b[1;33m=\u001b[0m \u001b[0mDescargar_Archivos\u001b[0m\u001b[1;33m(\u001b[0m\u001b[1;33m)\u001b[0m\u001b[1;33m\u001b[0m\u001b[1;33m\u001b[0m\u001b[0m\n\u001b[0;32m    275\u001b[0m     \u001b[1;32mif\u001b[0m\u001b[1;33m(\u001b[0m\u001b[0mlen\u001b[0m\u001b[1;33m(\u001b[0m\u001b[0mArchivos\u001b[0m\u001b[1;33m)\u001b[0m \u001b[1;33m>\u001b[0m \u001b[1;36m0\u001b[0m\u001b[1;33m)\u001b[0m\u001b[1;33m:\u001b[0m\u001b[1;33m\u001b[0m\u001b[1;33m\u001b[0m\u001b[0m\n\u001b[1;32m--> 276\u001b[1;33m         \u001b[0mActualizar_Datos\u001b[0m\u001b[1;33m(\u001b[0m\u001b[0mArchivos\u001b[0m\u001b[1;33m)\u001b[0m\u001b[1;33m\u001b[0m\u001b[1;33m\u001b[0m\u001b[0m\n\u001b[0m\u001b[0;32m    277\u001b[0m         \u001b[0mguardarRepositorio\u001b[0m\u001b[1;33m(\u001b[0m\u001b[1;33m)\u001b[0m\u001b[1;33m\u001b[0m\u001b[1;33m\u001b[0m\u001b[0m\n\u001b[0;32m    278\u001b[0m         \u001b[0mtime\u001b[0m\u001b[1;33m.\u001b[0m\u001b[0msleep\u001b[0m\u001b[1;33m(\u001b[0m\u001b[1;36m60\u001b[0m \u001b[1;33m*\u001b[0m \u001b[1;36m60\u001b[0m \u001b[1;33m*\u001b[0m \u001b[1;36m24\u001b[0m\u001b[1;33m)\u001b[0m\u001b[1;33m\u001b[0m\u001b[1;33m\u001b[0m\u001b[0m\n",
      "\u001b[1;32m~\\Documents\\GitHub\\DATA-AGRO\\PrecioFrutaHortalizas\\Servidor.py\u001b[0m in \u001b[0;36mActualizar_Datos\u001b[1;34m(Archivos)\u001b[0m\n\u001b[0;32m    202\u001b[0m                     \u001b[0mu_comercializacion\u001b[0m \u001b[1;33m=\u001b[0m \u001b[0mdatos\u001b[0m\u001b[1;33m[\u001b[0m\u001b[1;34m'Unidad de\\ncomercialización '\u001b[0m\u001b[1;33m]\u001b[0m\u001b[1;33m[\u001b[0m\u001b[0mfilas\u001b[0m\u001b[1;33m]\u001b[0m\u001b[1;33m\u001b[0m\u001b[1;33m\u001b[0m\u001b[0m\n\u001b[0;32m    203\u001b[0m                     \u001b[0morigen\u001b[0m \u001b[1;33m=\u001b[0m \u001b[0mdatos\u001b[0m\u001b[1;33m[\u001b[0m\u001b[1;34m'Origen '\u001b[0m\u001b[1;33m]\u001b[0m\u001b[1;33m[\u001b[0m\u001b[0mfilas\u001b[0m\u001b[1;33m]\u001b[0m\u001b[1;33m\u001b[0m\u001b[1;33m\u001b[0m\u001b[0m\n\u001b[1;32m--> 204\u001b[1;33m                     \u001b[0mkgUnidad\u001b[0m \u001b[1;33m=\u001b[0m \u001b[0mDetalle_Dict\u001b[0m\u001b[1;33m[\u001b[0m\u001b[0mu_comercializacion\u001b[0m\u001b[1;33m]\u001b[0m\u001b[1;33m\u001b[0m\u001b[1;33m\u001b[0m\u001b[0m\n\u001b[0m\u001b[0;32m    205\u001b[0m                     \u001b[0mprecio\u001b[0m \u001b[1;33m=\u001b[0m \u001b[0mint\u001b[0m\u001b[1;33m(\u001b[0m\u001b[0mround\u001b[0m\u001b[1;33m(\u001b[0m\u001b[0mprecio_promedio\u001b[0m \u001b[1;33m/\u001b[0m \u001b[0mkgUnidad\u001b[0m\u001b[1;33m,\u001b[0m\u001b[1;36m0\u001b[0m\u001b[1;33m)\u001b[0m\u001b[1;33m)\u001b[0m\u001b[1;33m\u001b[0m\u001b[1;33m\u001b[0m\u001b[0m\n\u001b[0;32m    206\u001b[0m                     \u001b[0mFrutas\u001b[0m\u001b[1;33m.\u001b[0m\u001b[0mappend\u001b[0m\u001b[1;33m(\u001b[0m\u001b[0mdiccionario_auxiliar\u001b[0m\u001b[1;33m(\u001b[0m\u001b[0mmercado\u001b[0m\u001b[1;33m,\u001b[0m\u001b[0mregion\u001b[0m\u001b[1;33m,\u001b[0m\u001b[0mfecha\u001b[0m\u001b[1;33m,\u001b[0m\u001b[0mcod_reg\u001b[0m\u001b[1;33m,\u001b[0m\u001b[0mtipo\u001b[0m\u001b[1;33m,\u001b[0m\u001b[0mcategoria\u001b[0m\u001b[1;33m,\u001b[0m\u001b[0mproducto\u001b[0m\u001b[1;33m,\u001b[0m\u001b[0mvariedad\u001b[0m\u001b[1;33m,\u001b[0m\u001b[0mcalidad\u001b[0m\u001b[1;33m,\u001b[0m\u001b[0mvolumen\u001b[0m\u001b[1;33m,\u001b[0m\u001b[0mprecio_minimo\u001b[0m\u001b[1;33m,\u001b[0m\u001b[0mprecio_maximo\u001b[0m\u001b[1;33m,\u001b[0m\u001b[0mprecio_promedio\u001b[0m\u001b[1;33m,\u001b[0m\u001b[0mu_comercializacion\u001b[0m\u001b[1;33m,\u001b[0m\u001b[0morigen\u001b[0m\u001b[1;33m,\u001b[0m \u001b[0mprecio\u001b[0m\u001b[1;33m,\u001b[0m\u001b[0mkgUnidad\u001b[0m\u001b[1;33m)\u001b[0m\u001b[1;33m)\u001b[0m\u001b[1;33m\u001b[0m\u001b[1;33m\u001b[0m\u001b[0m\n",
      "\u001b[1;31mKeyError\u001b[0m: '$/caja 20 kilos empedrada'"
     ]
    }
   ],
   "source": [
    "#S.Fecha_Actual_Fruta()\n",
    "S.Ciclo()\n",
    "#S.Descargar_Archivos()"
   ]
  },
  {
   "cell_type": "code",
   "execution_count": null,
   "metadata": {},
   "outputs": [],
   "source": [
    "S.Descargar_Archivos()"
   ]
  },
  {
   "cell_type": "code",
   "execution_count": null,
   "metadata": {},
   "outputs": [],
   "source": [
    "fechaMaxima = S.Fecha_Actual_Fruta()\n",
    "fechaMaxima"
   ]
  },
  {
   "cell_type": "code",
   "execution_count": null,
   "metadata": {},
   "outputs": [],
   "source": [
    "import datetime\n",
    "import wget"
   ]
  },
  {
   "cell_type": "code",
   "execution_count": null,
   "metadata": {},
   "outputs": [],
   "source": [
    "import datetime\n",
    "import requests\n",
    "\n",
    "\n",
    "salida = []\n",
    "numero = 1\n",
    "flag = (fechaMaxima + datetime.timedelta(days = 0)).strftime(\"%Y%m%d\") != datetime.datetime.now().strftime(\"%Y%m%d\")\n",
    "print(flag)\n",
    "while flag:\n",
    "    annioDescarga = (fechaMaxima + datetime.timedelta(days = numero)).strftime(\"%Y\")\n",
    "    mesDescarga = (fechaMaxima + datetime.timedelta(days = numero)).strftime(\"%m\")\n",
    "    urlBase =  \"https://www.odepa.gob.cl/wp-content/uploads/\" + annioDescarga + \"/\" + mesDescarga + \"/Boletin_Diario_de_Frutas_y_Hortalizas_\"\n",
    "    fecha = (fechaMaxima + datetime.timedelta(days = numero)).strftime(\"%Y%m%d.xlsx\") \n",
    "    print(urlBase + fecha)\n",
    "    try:\n",
    "        myfile = requests.get(url)\n",
    "        #open(fecha, 'wb').write(myfile.content)\n",
    "        #wget.download(urlBase + fecha, fecha)\n",
    "        print(urlBase + fecha)\n",
    "        salida.append(fecha)\n",
    "    except:\n",
    "        pass\n",
    "\n",
    "    flag = (fechaMaxima + datetime.timedelta(days = numero)).strftime(\"%Y%m%d\") != datetime.datetime.now().strftime(\"%Y%m%d\")\n",
    "    numero = numero + 1"
   ]
  },
  {
   "cell_type": "code",
   "execution_count": null,
   "metadata": {},
   "outputs": [],
   "source": [
    "datetime.datetime.now().strftime(\"%Y%m%d\")"
   ]
  },
  {
   "cell_type": "code",
   "execution_count": null,
   "metadata": {},
   "outputs": [],
   "source": [
    "(fechaMaxima + datetime.timedelta(days = 0)).strftime(\"%Y%m%d\")"
   ]
  },
  {
   "cell_type": "code",
   "execution_count": null,
   "metadata": {},
   "outputs": [],
   "source": [
    "wget.download(\"https://www.odepa.gob.cl/wp-content/uploads/2020/12/Boletin_Diario_de_Frutas_y_Hortalizas_20201216.xlsx\", \"test.xlsx\")"
   ]
  },
  {
   "cell_type": "code",
   "execution_count": null,
   "metadata": {},
   "outputs": [],
   "source": [
    "import certifi\n",
    "certifi.where()"
   ]
  },
  {
   "cell_type": "code",
   "execution_count": null,
   "metadata": {},
   "outputs": [],
   "source": [
    "import requests\n",
    "\n",
    "url = 'https://www.odepa.gob.cl/wp-content/uploads/2020/12/Boletin_Diario_de_Frutas_y_Hortalizas_20201216.xlsx'\n",
    "print(urlBase + fecha)\n",
    "myfile = requests.get(urlBase + fecha)\n",
    "\n",
    "open(fecha, 'wb').write(myfile.content)"
   ]
  },
  {
   "cell_type": "code",
   "execution_count": null,
   "metadata": {},
   "outputs": [],
   "source": [
    "Archivos = S.Descargar_Archivos()\n",
    "#len(Archivos)\n",
    "#      Actualizar_Datos(Archivos)\n",
    "Archivos"
   ]
  },
  {
   "cell_type": "code",
   "execution_count": null,
   "metadata": {},
   "outputs": [],
   "source": [
    "Archivos = S.Actualizar_Datos(Archivos)"
   ]
  },
  {
   "cell_type": "code",
   "execution_count": null,
   "metadata": {},
   "outputs": [],
   "source": [
    "import openpyxl"
   ]
  },
  {
   "cell_type": "code",
   "execution_count": null,
   "metadata": {},
   "outputs": [],
   "source": [
    "for i in Archivos:\n",
    "    print(i)\n",
    "    wb = openpyxl.load_workbook(i)"
   ]
  },
  {
   "cell_type": "code",
   "execution_count": null,
   "metadata": {
    "scrolled": true
   },
   "outputs": [],
   "source": [
    "\n",
    "openpyxl.load_workbook('20201216.xlsx')"
   ]
  },
  {
   "cell_type": "code",
   "execution_count": null,
   "metadata": {},
   "outputs": [],
   "source": [
    "S.guardarRepositorio()"
   ]
  },
  {
   "cell_type": "code",
   "execution_count": null,
   "metadata": {},
   "outputs": [],
   "source": [
    "Archivos"
   ]
  },
  {
   "cell_type": "code",
   "execution_count": null,
   "metadata": {},
   "outputs": [],
   "source": [
    "S.Actualizar_Datos(Archivos)"
   ]
  },
  {
   "cell_type": "code",
   "execution_count": null,
   "metadata": {},
   "outputs": [],
   "source": [
    "openpyxl.load_workbook('20201216.xlsx')"
   ]
  },
  {
   "cell_type": "code",
   "execution_count": null,
   "metadata": {},
   "outputs": [],
   "source": []
  }
 ],
 "metadata": {
  "kernelspec": {
   "display_name": "Python 3",
   "language": "python",
   "name": "python3"
  },
  "language_info": {
   "codemirror_mode": {
    "name": "ipython",
    "version": 3
   },
   "file_extension": ".py",
   "mimetype": "text/x-python",
   "name": "python",
   "nbconvert_exporter": "python",
   "pygments_lexer": "ipython3",
   "version": "3.7.6"
  }
 },
 "nbformat": 4,
 "nbformat_minor": 4
}
