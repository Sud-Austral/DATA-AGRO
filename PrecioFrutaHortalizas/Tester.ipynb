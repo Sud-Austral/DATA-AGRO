{
 "cells": [
  {
   "cell_type": "code",
   "execution_count": null,
   "metadata": {},
   "outputs": [],
   "source": [
    "import Servidor as S"
   ]
  },
  {
   "cell_type": "code",
   "execution_count": null,
   "metadata": {},
   "outputs": [],
   "source": [
    "#S.Fecha_Actual_Fruta()\n",
    "S.Ciclo()\n",
    "#S.Descargar_Archivos()"
   ]
  },
  {
   "cell_type": "code",
   "execution_count": null,
   "metadata": {},
   "outputs": [],
   "source": [
    "S.Descargar_Archivos()"
   ]
  },
  {
   "cell_type": "code",
   "execution_count": 10,
   "metadata": {},
   "outputs": [
    {
     "data": {
      "text/plain": [
       "Timestamp('2020-12-15 00:00:00')"
      ]
     },
     "execution_count": 10,
     "metadata": {},
     "output_type": "execute_result"
    }
   ],
   "source": [
    "fechaMaxima = S.Fecha_Actual_Fruta()\n",
    "fechaMaxima"
   ]
  },
  {
   "cell_type": "code",
   "execution_count": null,
   "metadata": {},
   "outputs": [],
   "source": [
    "import datetime\n",
    "import wget"
   ]
  },
  {
   "cell_type": "code",
   "execution_count": 11,
   "metadata": {},
   "outputs": [
    {
     "name": "stdout",
     "output_type": "stream",
     "text": [
      "True\n",
      "https://www.odepa.gob.cl/wp-content/uploads/2020/12/Boletin_Diario_de_Frutas_y_Hortalizas_20201216.xlsx\n",
      "https://www.odepa.gob.cl/wp-content/uploads/2020/12/Boletin_Diario_de_Frutas_y_Hortalizas_20201216.xlsx\n"
     ]
    }
   ],
   "source": [
    "import datetime\n",
    "import requests\n",
    "\n",
    "\n",
    "salida = []\n",
    "numero = 1\n",
    "flag = (fechaMaxima + datetime.timedelta(days = 0)).strftime(\"%Y%m%d\") != datetime.datetime.now().strftime(\"%Y%m%d\")\n",
    "print(flag)\n",
    "while flag:\n",
    "    annioDescarga = (fechaMaxima + datetime.timedelta(days = numero)).strftime(\"%Y\")\n",
    "    mesDescarga = (fechaMaxima + datetime.timedelta(days = numero)).strftime(\"%m\")\n",
    "    urlBase =  \"https://www.odepa.gob.cl/wp-content/uploads/\" + annioDescarga + \"/\" + mesDescarga + \"/Boletin_Diario_de_Frutas_y_Hortalizas_\"\n",
    "    fecha = (fechaMaxima + datetime.timedelta(days = numero)).strftime(\"%Y%m%d.xlsx\") \n",
    "    print(urlBase + fecha)\n",
    "    try:\n",
    "        myfile = requests.get(url)\n",
    "        #open(fecha, 'wb').write(myfile.content)\n",
    "        #wget.download(urlBase + fecha, fecha)\n",
    "        print(urlBase + fecha)\n",
    "        salida.append(fecha)\n",
    "    except:\n",
    "        pass\n",
    "\n",
    "    flag = (fechaMaxima + datetime.timedelta(days = numero)).strftime(\"%Y%m%d\") != datetime.datetime.now().strftime(\"%Y%m%d\")\n",
    "    numero = numero + 1"
   ]
  },
  {
   "cell_type": "code",
   "execution_count": null,
   "metadata": {},
   "outputs": [],
   "source": [
    "datetime.datetime.now().strftime(\"%Y%m%d\")"
   ]
  },
  {
   "cell_type": "code",
   "execution_count": null,
   "metadata": {},
   "outputs": [],
   "source": [
    "(fechaMaxima + datetime.timedelta(days = 0)).strftime(\"%Y%m%d\")"
   ]
  },
  {
   "cell_type": "code",
   "execution_count": null,
   "metadata": {},
   "outputs": [],
   "source": [
    "wget.download(\"https://www.odepa.gob.cl/wp-content/uploads/2020/12/Boletin_Diario_de_Frutas_y_Hortalizas_20201216.xlsx\", \"test.xlsx\")"
   ]
  },
  {
   "cell_type": "code",
   "execution_count": null,
   "metadata": {},
   "outputs": [],
   "source": [
    "import certifi\n",
    "certifi.where()"
   ]
  },
  {
   "cell_type": "code",
   "execution_count": 12,
   "metadata": {},
   "outputs": [
    {
     "name": "stdout",
     "output_type": "stream",
     "text": [
      "https://www.odepa.gob.cl/wp-content/uploads/2020/12/Boletin_Diario_de_Frutas_y_Hortalizas_20201216.xlsx\n"
     ]
    },
    {
     "data": {
      "text/plain": [
       "395798"
      ]
     },
     "execution_count": 12,
     "metadata": {},
     "output_type": "execute_result"
    }
   ],
   "source": [
    "import requests\n",
    "\n",
    "url = 'https://www.odepa.gob.cl/wp-content/uploads/2020/12/Boletin_Diario_de_Frutas_y_Hortalizas_20201216.xlsx'\n",
    "print(urlBase + fecha)\n",
    "myfile = requests.get(urlBase + fecha)\n",
    "\n",
    "open(fecha, 'wb').write(myfile.content)"
   ]
  },
  {
   "cell_type": "code",
   "execution_count": 2,
   "metadata": {},
   "outputs": [
    {
     "name": "stdout",
     "output_type": "stream",
     "text": [
      "True\n",
      "https://www.odepa.gob.cl/wp-content/uploads/2020/12/Boletin_Diario_de_Frutas_y_Hortalizas_20201216.xlsx\n",
      "https://www.odepa.gob.cl/wp-content/uploads/2020/12/Boletin_Diario_de_Frutas_y_Hortalizas_20201216.xlsx\n"
     ]
    },
    {
     "data": {
      "text/plain": [
       "['20201216.xlsx']"
      ]
     },
     "execution_count": 2,
     "metadata": {},
     "output_type": "execute_result"
    }
   ],
   "source": [
    "Archivos = S.Descargar_Archivos()\n",
    "#len(Archivos)\n",
    "#      Actualizar_Datos(Archivos)\n",
    "Archivos"
   ]
  },
  {
   "cell_type": "code",
   "execution_count": null,
   "metadata": {},
   "outputs": [],
   "source": [
    "Archivos = S.Actualizar_Datos(Archivos)"
   ]
  },
  {
   "cell_type": "code",
   "execution_count": 4,
   "metadata": {},
   "outputs": [],
   "source": [
    "import openpyxl"
   ]
  },
  {
   "cell_type": "code",
   "execution_count": 5,
   "metadata": {},
   "outputs": [
    {
     "name": "stdout",
     "output_type": "stream",
     "text": [
      "20201216.xlsx\n"
     ]
    }
   ],
   "source": [
    "for i in Archivos:\n",
    "    print(i)\n",
    "    wb = openpyxl.load_workbook(i)"
   ]
  },
  {
   "cell_type": "code",
   "execution_count": null,
   "metadata": {
    "scrolled": true
   },
   "outputs": [],
   "source": [
    "\n",
    "openpyxl.load_workbook('20201216.xlsx')"
   ]
  },
  {
   "cell_type": "code",
   "execution_count": null,
   "metadata": {},
   "outputs": [],
   "source": [
    "S.guardarRepositorio()"
   ]
  },
  {
   "cell_type": "code",
   "execution_count": null,
   "metadata": {},
   "outputs": [],
   "source": [
    "Archivos"
   ]
  },
  {
   "cell_type": "code",
   "execution_count": 13,
   "metadata": {},
   "outputs": [
    {
     "name": "stdout",
     "output_type": "stream",
     "text": [
      "\"Agrícola del Norte S.A. de Arica\"\n",
      "\"Comercializadora del Agro de Limarí\"\n",
      "\"Femacal de La Calera\"\n",
      "\"Feria Lagunitas de Puerto Montt\"\n",
      "\"Macroferia Regional de Talca\"\n",
      "\"Mapocho venta directa de Santiago\"\n",
      "\"Mercado Mayorista Lo Valledor de Santiago\"\n",
      "\"Terminal Hortofrutícola Agro Chillán\"\n",
      "\"Terminal La Palmera de La Serena\"\n",
      "\"Vega Central Mapocho de Santiago\"\n",
      "\"Vega Modelo de Temuco\"\n",
      "\"Vega Monumental Concepción\"\n",
      "20201216.xlsx\n"
     ]
    }
   ],
   "source": [
    "S.Actualizar_Datos(Archivos)"
   ]
  },
  {
   "cell_type": "code",
   "execution_count": 7,
   "metadata": {},
   "outputs": [
    {
     "ename": "FileNotFoundError",
     "evalue": "[Errno 2] No such file or directory: '20201216.xlsx'",
     "output_type": "error",
     "traceback": [
      "\u001b[1;31m---------------------------------------------------------------------------\u001b[0m",
      "\u001b[1;31mFileNotFoundError\u001b[0m                         Traceback (most recent call last)",
      "\u001b[1;32m<ipython-input-7-56f5d33fcfcd>\u001b[0m in \u001b[0;36m<module>\u001b[1;34m\u001b[0m\n\u001b[1;32m----> 1\u001b[1;33m \u001b[0mopenpyxl\u001b[0m\u001b[1;33m.\u001b[0m\u001b[0mload_workbook\u001b[0m\u001b[1;33m(\u001b[0m\u001b[1;34m'20201216.xlsx'\u001b[0m\u001b[1;33m)\u001b[0m\u001b[1;33m\u001b[0m\u001b[1;33m\u001b[0m\u001b[0m\n\u001b[0m",
      "\u001b[1;32mC:\\ProgramData\\Anaconda3\\lib\\site-packages\\openpyxl\\reader\\excel.py\u001b[0m in \u001b[0;36mload_workbook\u001b[1;34m(filename, read_only, keep_vba, data_only, keep_links)\u001b[0m\n\u001b[0;32m    311\u001b[0m     \"\"\"\n\u001b[0;32m    312\u001b[0m     reader = ExcelReader(filename, read_only, keep_vba,\n\u001b[1;32m--> 313\u001b[1;33m                         data_only, keep_links)\n\u001b[0m\u001b[0;32m    314\u001b[0m     \u001b[0mreader\u001b[0m\u001b[1;33m.\u001b[0m\u001b[0mread\u001b[0m\u001b[1;33m(\u001b[0m\u001b[1;33m)\u001b[0m\u001b[1;33m\u001b[0m\u001b[1;33m\u001b[0m\u001b[0m\n\u001b[0;32m    315\u001b[0m     \u001b[1;32mreturn\u001b[0m \u001b[0mreader\u001b[0m\u001b[1;33m.\u001b[0m\u001b[0mwb\u001b[0m\u001b[1;33m\u001b[0m\u001b[1;33m\u001b[0m\u001b[0m\n",
      "\u001b[1;32mC:\\ProgramData\\Anaconda3\\lib\\site-packages\\openpyxl\\reader\\excel.py\u001b[0m in \u001b[0;36m__init__\u001b[1;34m(self, fn, read_only, keep_vba, data_only, keep_links)\u001b[0m\n\u001b[0;32m    122\u001b[0m     def __init__(self,  fn, read_only=False, keep_vba=KEEP_VBA,\n\u001b[0;32m    123\u001b[0m                   data_only=False, keep_links=True):\n\u001b[1;32m--> 124\u001b[1;33m         \u001b[0mself\u001b[0m\u001b[1;33m.\u001b[0m\u001b[0marchive\u001b[0m \u001b[1;33m=\u001b[0m \u001b[0m_validate_archive\u001b[0m\u001b[1;33m(\u001b[0m\u001b[0mfn\u001b[0m\u001b[1;33m)\u001b[0m\u001b[1;33m\u001b[0m\u001b[1;33m\u001b[0m\u001b[0m\n\u001b[0m\u001b[0;32m    125\u001b[0m         \u001b[0mself\u001b[0m\u001b[1;33m.\u001b[0m\u001b[0mvalid_files\u001b[0m \u001b[1;33m=\u001b[0m \u001b[0mself\u001b[0m\u001b[1;33m.\u001b[0m\u001b[0marchive\u001b[0m\u001b[1;33m.\u001b[0m\u001b[0mnamelist\u001b[0m\u001b[1;33m(\u001b[0m\u001b[1;33m)\u001b[0m\u001b[1;33m\u001b[0m\u001b[1;33m\u001b[0m\u001b[0m\n\u001b[0;32m    126\u001b[0m         \u001b[0mself\u001b[0m\u001b[1;33m.\u001b[0m\u001b[0mread_only\u001b[0m \u001b[1;33m=\u001b[0m \u001b[0mread_only\u001b[0m\u001b[1;33m\u001b[0m\u001b[1;33m\u001b[0m\u001b[0m\n",
      "\u001b[1;32mC:\\ProgramData\\Anaconda3\\lib\\site-packages\\openpyxl\\reader\\excel.py\u001b[0m in \u001b[0;36m_validate_archive\u001b[1;34m(filename)\u001b[0m\n\u001b[0;32m     94\u001b[0m             \u001b[1;32mraise\u001b[0m \u001b[0mInvalidFileException\u001b[0m\u001b[1;33m(\u001b[0m\u001b[0mmsg\u001b[0m\u001b[1;33m)\u001b[0m\u001b[1;33m\u001b[0m\u001b[1;33m\u001b[0m\u001b[0m\n\u001b[0;32m     95\u001b[0m \u001b[1;33m\u001b[0m\u001b[0m\n\u001b[1;32m---> 96\u001b[1;33m     \u001b[0marchive\u001b[0m \u001b[1;33m=\u001b[0m \u001b[0mZipFile\u001b[0m\u001b[1;33m(\u001b[0m\u001b[0mfilename\u001b[0m\u001b[1;33m,\u001b[0m \u001b[1;34m'r'\u001b[0m\u001b[1;33m)\u001b[0m\u001b[1;33m\u001b[0m\u001b[1;33m\u001b[0m\u001b[0m\n\u001b[0m\u001b[0;32m     97\u001b[0m     \u001b[1;32mreturn\u001b[0m \u001b[0marchive\u001b[0m\u001b[1;33m\u001b[0m\u001b[1;33m\u001b[0m\u001b[0m\n\u001b[0;32m     98\u001b[0m \u001b[1;33m\u001b[0m\u001b[0m\n",
      "\u001b[1;32mC:\\ProgramData\\Anaconda3\\lib\\zipfile.py\u001b[0m in \u001b[0;36m__init__\u001b[1;34m(self, file, mode, compression, allowZip64, compresslevel)\u001b[0m\n\u001b[0;32m   1238\u001b[0m             \u001b[1;32mwhile\u001b[0m \u001b[1;32mTrue\u001b[0m\u001b[1;33m:\u001b[0m\u001b[1;33m\u001b[0m\u001b[1;33m\u001b[0m\u001b[0m\n\u001b[0;32m   1239\u001b[0m                 \u001b[1;32mtry\u001b[0m\u001b[1;33m:\u001b[0m\u001b[1;33m\u001b[0m\u001b[1;33m\u001b[0m\u001b[0m\n\u001b[1;32m-> 1240\u001b[1;33m                     \u001b[0mself\u001b[0m\u001b[1;33m.\u001b[0m\u001b[0mfp\u001b[0m \u001b[1;33m=\u001b[0m \u001b[0mio\u001b[0m\u001b[1;33m.\u001b[0m\u001b[0mopen\u001b[0m\u001b[1;33m(\u001b[0m\u001b[0mfile\u001b[0m\u001b[1;33m,\u001b[0m \u001b[0mfilemode\u001b[0m\u001b[1;33m)\u001b[0m\u001b[1;33m\u001b[0m\u001b[1;33m\u001b[0m\u001b[0m\n\u001b[0m\u001b[0;32m   1241\u001b[0m                 \u001b[1;32mexcept\u001b[0m \u001b[0mOSError\u001b[0m\u001b[1;33m:\u001b[0m\u001b[1;33m\u001b[0m\u001b[1;33m\u001b[0m\u001b[0m\n\u001b[0;32m   1242\u001b[0m                     \u001b[1;32mif\u001b[0m \u001b[0mfilemode\u001b[0m \u001b[1;32min\u001b[0m \u001b[0mmodeDict\u001b[0m\u001b[1;33m:\u001b[0m\u001b[1;33m\u001b[0m\u001b[1;33m\u001b[0m\u001b[0m\n",
      "\u001b[1;31mFileNotFoundError\u001b[0m: [Errno 2] No such file or directory: '20201216.xlsx'"
     ]
    }
   ],
   "source": [
    "openpyxl.load_workbook('20201216.xlsx')"
   ]
  },
  {
   "cell_type": "code",
   "execution_count": null,
   "metadata": {},
   "outputs": [],
   "source": []
  }
 ],
 "metadata": {
  "kernelspec": {
   "display_name": "Python 3",
   "language": "python",
   "name": "python3"
  },
  "language_info": {
   "codemirror_mode": {
    "name": "ipython",
    "version": 3
   },
   "file_extension": ".py",
   "mimetype": "text/x-python",
   "name": "python",
   "nbconvert_exporter": "python",
   "pygments_lexer": "ipython3",
   "version": "3.7.6"
  }
 },
 "nbformat": 4,
 "nbformat_minor": 4
}
