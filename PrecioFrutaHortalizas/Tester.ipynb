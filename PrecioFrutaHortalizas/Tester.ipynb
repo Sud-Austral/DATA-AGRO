{
 "cells": [
  {
   "cell_type": "code",
   "execution_count": 1,
   "metadata": {},
   "outputs": [],
   "source": [
    "import Servidor as S"
   ]
  },
  {
   "cell_type": "code",
   "execution_count": null,
   "metadata": {
    "scrolled": true
   },
   "outputs": [
    {
     "name": "stdout",
     "output_type": "stream",
     "text": [
      "True\n",
      "https://www.odepa.gob.cl/wp-content/uploads/2020/12/Boletin_Diario_de_Frutas_y_Hortalizas_20201224.xlsx\n",
      "https://www.odepa.gob.cl/wp-content/uploads/2020/12/Boletin_Diario_de_Frutas_y_Hortalizas_20201224.xlsx\n",
      "https://www.odepa.gob.cl/wp-content/uploads/2020/12/Boletin_Diario_de_Frutas_y_Hortalizas_20201225.xlsx\n",
      "https://www.odepa.gob.cl/wp-content/uploads/2020/12/Boletin_Diario_de_Frutas_y_Hortalizas_20201225.xlsx\n",
      "https://www.odepa.gob.cl/wp-content/uploads/2020/12/Boletin_Diario_de_Frutas_y_Hortalizas_20201226.xlsx\n",
      "https://www.odepa.gob.cl/wp-content/uploads/2020/12/Boletin_Diario_de_Frutas_y_Hortalizas_20201226.xlsx\n",
      "https://www.odepa.gob.cl/wp-content/uploads/2020/12/Boletin_Diario_de_Frutas_y_Hortalizas_20201227.xlsx\n",
      "https://www.odepa.gob.cl/wp-content/uploads/2020/12/Boletin_Diario_de_Frutas_y_Hortalizas_20201227.xlsx\n",
      "https://www.odepa.gob.cl/wp-content/uploads/2020/12/Boletin_Diario_de_Frutas_y_Hortalizas_20201228.xlsx\n",
      "https://www.odepa.gob.cl/wp-content/uploads/2020/12/Boletin_Diario_de_Frutas_y_Hortalizas_20201228.xlsx\n",
      "https://www.odepa.gob.cl/wp-content/uploads/2020/12/Boletin_Diario_de_Frutas_y_Hortalizas_20201229.xlsx\n",
      "https://www.odepa.gob.cl/wp-content/uploads/2020/12/Boletin_Diario_de_Frutas_y_Hortalizas_20201229.xlsx\n",
      "https://www.odepa.gob.cl/wp-content/uploads/2020/12/Boletin_Diario_de_Frutas_y_Hortalizas_20201230.xlsx\n",
      "https://www.odepa.gob.cl/wp-content/uploads/2020/12/Boletin_Diario_de_Frutas_y_Hortalizas_20201230.xlsx\n",
      "https://www.odepa.gob.cl/wp-content/uploads/2020/12/Boletin_Diario_de_Frutas_y_Hortalizas_20201231.xlsx\n",
      "https://www.odepa.gob.cl/wp-content/uploads/2020/12/Boletin_Diario_de_Frutas_y_Hortalizas_20201231.xlsx\n",
      "https://www.odepa.gob.cl/wp-content/uploads/2021/01/Boletin_Diario_de_Frutas_y_Hortalizas_20210101.xlsx\n",
      "https://www.odepa.gob.cl/wp-content/uploads/2021/01/Boletin_Diario_de_Frutas_y_Hortalizas_20210101.xlsx\n",
      "https://www.odepa.gob.cl/wp-content/uploads/2021/01/Boletin_Diario_de_Frutas_y_Hortalizas_20210102.xlsx\n",
      "https://www.odepa.gob.cl/wp-content/uploads/2021/01/Boletin_Diario_de_Frutas_y_Hortalizas_20210102.xlsx\n",
      "https://www.odepa.gob.cl/wp-content/uploads/2021/01/Boletin_Diario_de_Frutas_y_Hortalizas_20210103.xlsx\n",
      "https://www.odepa.gob.cl/wp-content/uploads/2021/01/Boletin_Diario_de_Frutas_y_Hortalizas_20210103.xlsx\n",
      "https://www.odepa.gob.cl/wp-content/uploads/2021/01/Boletin_Diario_de_Frutas_y_Hortalizas_20210104.xlsx\n",
      "https://www.odepa.gob.cl/wp-content/uploads/2021/01/Boletin_Diario_de_Frutas_y_Hortalizas_20210104.xlsx\n",
      "https://www.odepa.gob.cl/wp-content/uploads/2021/01/Boletin_Diario_de_Frutas_y_Hortalizas_20210105.xlsx\n",
      "https://www.odepa.gob.cl/wp-content/uploads/2021/01/Boletin_Diario_de_Frutas_y_Hortalizas_20210105.xlsx\n",
      "https://www.odepa.gob.cl/wp-content/uploads/2021/01/Boletin_Diario_de_Frutas_y_Hortalizas_20210106.xlsx\n",
      "https://www.odepa.gob.cl/wp-content/uploads/2021/01/Boletin_Diario_de_Frutas_y_Hortalizas_20210106.xlsx\n",
      "https://www.odepa.gob.cl/wp-content/uploads/2021/01/Boletin_Diario_de_Frutas_y_Hortalizas_20210107.xlsx\n",
      "https://www.odepa.gob.cl/wp-content/uploads/2021/01/Boletin_Diario_de_Frutas_y_Hortalizas_20210107.xlsx\n",
      "https://www.odepa.gob.cl/wp-content/uploads/2021/01/Boletin_Diario_de_Frutas_y_Hortalizas_20210108.xlsx\n",
      "https://www.odepa.gob.cl/wp-content/uploads/2021/01/Boletin_Diario_de_Frutas_y_Hortalizas_20210108.xlsx\n",
      "https://www.odepa.gob.cl/wp-content/uploads/2021/01/Boletin_Diario_de_Frutas_y_Hortalizas_20210109.xlsx\n",
      "https://www.odepa.gob.cl/wp-content/uploads/2021/01/Boletin_Diario_de_Frutas_y_Hortalizas_20210109.xlsx\n",
      "https://www.odepa.gob.cl/wp-content/uploads/2021/01/Boletin_Diario_de_Frutas_y_Hortalizas_20210110.xlsx\n",
      "https://www.odepa.gob.cl/wp-content/uploads/2021/01/Boletin_Diario_de_Frutas_y_Hortalizas_20210110.xlsx\n",
      "https://www.odepa.gob.cl/wp-content/uploads/2021/01/Boletin_Diario_de_Frutas_y_Hortalizas_20210111.xlsx\n",
      "https://www.odepa.gob.cl/wp-content/uploads/2021/01/Boletin_Diario_de_Frutas_y_Hortalizas_20210111.xlsx\n",
      "https://www.odepa.gob.cl/wp-content/uploads/2021/01/Boletin_Diario_de_Frutas_y_Hortalizas_20210112.xlsx\n",
      "https://www.odepa.gob.cl/wp-content/uploads/2021/01/Boletin_Diario_de_Frutas_y_Hortalizas_20210112.xlsx\n",
      "https://www.odepa.gob.cl/wp-content/uploads/2021/01/Boletin_Diario_de_Frutas_y_Hortalizas_20210113.xlsx\n",
      "https://www.odepa.gob.cl/wp-content/uploads/2021/01/Boletin_Diario_de_Frutas_y_Hortalizas_20210113.xlsx\n",
      "https://www.odepa.gob.cl/wp-content/uploads/2021/01/Boletin_Diario_de_Frutas_y_Hortalizas_20210114.xlsx\n",
      "https://www.odepa.gob.cl/wp-content/uploads/2021/01/Boletin_Diario_de_Frutas_y_Hortalizas_20210114.xlsx\n",
      "https://www.odepa.gob.cl/wp-content/uploads/2021/01/Boletin_Diario_de_Frutas_y_Hortalizas_20210115.xlsx\n",
      "https://www.odepa.gob.cl/wp-content/uploads/2021/01/Boletin_Diario_de_Frutas_y_Hortalizas_20210115.xlsx\n",
      "https://www.odepa.gob.cl/wp-content/uploads/2021/01/Boletin_Diario_de_Frutas_y_Hortalizas_20210116.xlsx\n",
      "https://www.odepa.gob.cl/wp-content/uploads/2021/01/Boletin_Diario_de_Frutas_y_Hortalizas_20210116.xlsx\n",
      "https://www.odepa.gob.cl/wp-content/uploads/2021/01/Boletin_Diario_de_Frutas_y_Hortalizas_20210117.xlsx\n",
      "https://www.odepa.gob.cl/wp-content/uploads/2021/01/Boletin_Diario_de_Frutas_y_Hortalizas_20210117.xlsx\n",
      "https://www.odepa.gob.cl/wp-content/uploads/2021/01/Boletin_Diario_de_Frutas_y_Hortalizas_20210118.xlsx\n",
      "https://www.odepa.gob.cl/wp-content/uploads/2021/01/Boletin_Diario_de_Frutas_y_Hortalizas_20210118.xlsx\n",
      "https://www.odepa.gob.cl/wp-content/uploads/2021/01/Boletin_Diario_de_Frutas_y_Hortalizas_20210119.xlsx\n",
      "https://www.odepa.gob.cl/wp-content/uploads/2021/01/Boletin_Diario_de_Frutas_y_Hortalizas_20210119.xlsx\n",
      "https://www.odepa.gob.cl/wp-content/uploads/2021/01/Boletin_Diario_de_Frutas_y_Hortalizas_20210120.xlsx\n",
      "https://www.odepa.gob.cl/wp-content/uploads/2021/01/Boletin_Diario_de_Frutas_y_Hortalizas_20210120.xlsx\n",
      "https://www.odepa.gob.cl/wp-content/uploads/2021/01/Boletin_Diario_de_Frutas_y_Hortalizas_20210121.xlsx\n",
      "https://www.odepa.gob.cl/wp-content/uploads/2021/01/Boletin_Diario_de_Frutas_y_Hortalizas_20210121.xlsx\n",
      "https://www.odepa.gob.cl/wp-content/uploads/2021/01/Boletin_Diario_de_Frutas_y_Hortalizas_20210122.xlsx\n",
      "https://www.odepa.gob.cl/wp-content/uploads/2021/01/Boletin_Diario_de_Frutas_y_Hortalizas_20210122.xlsx\n",
      "https://www.odepa.gob.cl/wp-content/uploads/2021/01/Boletin_Diario_de_Frutas_y_Hortalizas_20210123.xlsx\n",
      "https://www.odepa.gob.cl/wp-content/uploads/2021/01/Boletin_Diario_de_Frutas_y_Hortalizas_20210123.xlsx\n",
      "https://www.odepa.gob.cl/wp-content/uploads/2021/01/Boletin_Diario_de_Frutas_y_Hortalizas_20210124.xlsx\n",
      "https://www.odepa.gob.cl/wp-content/uploads/2021/01/Boletin_Diario_de_Frutas_y_Hortalizas_20210124.xlsx\n",
      "https://www.odepa.gob.cl/wp-content/uploads/2021/01/Boletin_Diario_de_Frutas_y_Hortalizas_20210125.xlsx\n",
      "https://www.odepa.gob.cl/wp-content/uploads/2021/01/Boletin_Diario_de_Frutas_y_Hortalizas_20210125.xlsx\n",
      "https://www.odepa.gob.cl/wp-content/uploads/2021/01/Boletin_Diario_de_Frutas_y_Hortalizas_20210126.xlsx\n",
      "https://www.odepa.gob.cl/wp-content/uploads/2021/01/Boletin_Diario_de_Frutas_y_Hortalizas_20210126.xlsx\n",
      "https://www.odepa.gob.cl/wp-content/uploads/2021/01/Boletin_Diario_de_Frutas_y_Hortalizas_20210127.xlsx\n",
      "https://www.odepa.gob.cl/wp-content/uploads/2021/01/Boletin_Diario_de_Frutas_y_Hortalizas_20210127.xlsx\n",
      "https://www.odepa.gob.cl/wp-content/uploads/2021/01/Boletin_Diario_de_Frutas_y_Hortalizas_20210128.xlsx\n",
      "https://www.odepa.gob.cl/wp-content/uploads/2021/01/Boletin_Diario_de_Frutas_y_Hortalizas_20210128.xlsx\n",
      "\"Agrícola del Norte S.A. de Arica\"\n",
      "\"Comercializadora del Agro de Limarí\"\n",
      "\"Femacal de La Calera\"\n",
      "\"Feria Lagunitas de Puerto Montt\"\n",
      "\"Macroferia Regional de Talca\"\n",
      "\"Mapocho venta directa de Santiago\"\n",
      "\"Mercado Mayorista Lo Valledor de Santiago\"\n",
      "\"Terminal Hortofrutícola Agro Chillán\"\n",
      "\"Terminal La Palmera de La Serena\"\n",
      "\"Vega Central Mapocho de Santiago\"\n",
      "\"Vega Modelo de Temuco\"\n",
      "\"Vega Monumental Concepción\"\n",
      "20201224.xlsx\n",
      "20201228.xlsx\n",
      "20201229.xlsx\n",
      "20201230.xlsx\n",
      "20201231.xlsx\n",
      "20210104.xlsx\n",
      "20210105.xlsx\n",
      "20210106.xlsx\n",
      "20210107.xlsx\n",
      "20210108.xlsx\n",
      "20210112.xlsx\n",
      "20210113.xlsx\n",
      "20210114.xlsx\n",
      "20210115.xlsx\n",
      "20210118.xlsx\n",
      "20210119.xlsx\n",
      "20210120.xlsx\n",
      "20210121.xlsx\n",
      "20210122.xlsx\n",
      "20210125.xlsx\n",
      "20210126.xlsx\n",
      "20210127.xlsx\n"
     ]
    },
    {
     "name": "stdout",
     "output_type": "stream",
     "text": [
      "20210128.xlsx\n"
     ]
    }
   ],
   "source": [
    "#S.Fecha_Actual_Fruta()\n",
    "S.Ciclo()\n",
    "#S.Descargar_Archivos()"
   ]
  },
  {
   "cell_type": "code",
   "execution_count": null,
   "metadata": {},
   "outputs": [],
   "source": [
    "S.Descargar_Archivos()"
   ]
  },
  {
   "cell_type": "code",
   "execution_count": null,
   "metadata": {},
   "outputs": [],
   "source": [
    "fechaMaxima = S.Fecha_Actual_Fruta()\n",
    "fechaMaxima"
   ]
  },
  {
   "cell_type": "code",
   "execution_count": null,
   "metadata": {},
   "outputs": [],
   "source": [
    "import datetime\n",
    "import wget"
   ]
  },
  {
   "cell_type": "code",
   "execution_count": null,
   "metadata": {},
   "outputs": [],
   "source": [
    "import datetime\n",
    "import requests\n",
    "\n",
    "\n",
    "salida = []\n",
    "numero = 1\n",
    "flag = (fechaMaxima + datetime.timedelta(days = 0)).strftime(\"%Y%m%d\") != datetime.datetime.now().strftime(\"%Y%m%d\")\n",
    "print(flag)\n",
    "while flag:\n",
    "    annioDescarga = (fechaMaxima + datetime.timedelta(days = numero)).strftime(\"%Y\")\n",
    "    mesDescarga = (fechaMaxima + datetime.timedelta(days = numero)).strftime(\"%m\")\n",
    "    urlBase =  \"https://www.odepa.gob.cl/wp-content/uploads/\" + annioDescarga + \"/\" + mesDescarga + \"/Boletin_Diario_de_Frutas_y_Hortalizas_\"\n",
    "    fecha = (fechaMaxima + datetime.timedelta(days = numero)).strftime(\"%Y%m%d.xlsx\") \n",
    "    print(urlBase + fecha)\n",
    "    try:\n",
    "        myfile = requests.get(url)\n",
    "        #open(fecha, 'wb').write(myfile.content)\n",
    "        #wget.download(urlBase + fecha, fecha)\n",
    "        print(urlBase + fecha)\n",
    "        salida.append(fecha)\n",
    "    except:\n",
    "        pass\n",
    "\n",
    "    flag = (fechaMaxima + datetime.timedelta(days = numero)).strftime(\"%Y%m%d\") != datetime.datetime.now().strftime(\"%Y%m%d\")\n",
    "    numero = numero + 1"
   ]
  },
  {
   "cell_type": "code",
   "execution_count": null,
   "metadata": {},
   "outputs": [],
   "source": [
    "datetime.datetime.now().strftime(\"%Y%m%d\")"
   ]
  },
  {
   "cell_type": "code",
   "execution_count": null,
   "metadata": {},
   "outputs": [],
   "source": [
    "(fechaMaxima + datetime.timedelta(days = 0)).strftime(\"%Y%m%d\")"
   ]
  },
  {
   "cell_type": "code",
   "execution_count": null,
   "metadata": {},
   "outputs": [],
   "source": [
    "wget.download(\"https://www.odepa.gob.cl/wp-content/uploads/2020/12/Boletin_Diario_de_Frutas_y_Hortalizas_20201216.xlsx\", \"test.xlsx\")"
   ]
  },
  {
   "cell_type": "code",
   "execution_count": null,
   "metadata": {},
   "outputs": [],
   "source": [
    "import certifi\n",
    "certifi.where()"
   ]
  },
  {
   "cell_type": "code",
   "execution_count": null,
   "metadata": {},
   "outputs": [],
   "source": [
    "import requests\n",
    "\n",
    "url = 'https://www.odepa.gob.cl/wp-content/uploads/2020/12/Boletin_Diario_de_Frutas_y_Hortalizas_20201216.xlsx'\n",
    "print(urlBase + fecha)\n",
    "myfile = requests.get(urlBase + fecha)\n",
    "\n",
    "open(fecha, 'wb').write(myfile.content)"
   ]
  },
  {
   "cell_type": "code",
   "execution_count": null,
   "metadata": {},
   "outputs": [],
   "source": [
    "Archivos = S.Descargar_Archivos()\n",
    "#len(Archivos)\n",
    "#      Actualizar_Datos(Archivos)\n",
    "Archivos"
   ]
  },
  {
   "cell_type": "code",
   "execution_count": null,
   "metadata": {},
   "outputs": [],
   "source": [
    "Archivos = S.Actualizar_Datos(Archivos)"
   ]
  },
  {
   "cell_type": "code",
   "execution_count": null,
   "metadata": {},
   "outputs": [],
   "source": [
    "import openpyxl"
   ]
  },
  {
   "cell_type": "code",
   "execution_count": null,
   "metadata": {},
   "outputs": [],
   "source": [
    "for i in Archivos:\n",
    "    print(i)\n",
    "    wb = openpyxl.load_workbook(i)"
   ]
  },
  {
   "cell_type": "code",
   "execution_count": null,
   "metadata": {
    "scrolled": true
   },
   "outputs": [],
   "source": [
    "\n",
    "openpyxl.load_workbook('20201216.xlsx')"
   ]
  },
  {
   "cell_type": "code",
   "execution_count": null,
   "metadata": {},
   "outputs": [],
   "source": [
    "S.guardarRepositorio()"
   ]
  },
  {
   "cell_type": "code",
   "execution_count": null,
   "metadata": {},
   "outputs": [],
   "source": [
    "Archivos"
   ]
  },
  {
   "cell_type": "code",
   "execution_count": null,
   "metadata": {},
   "outputs": [],
   "source": [
    "S.Actualizar_Datos(Archivos)"
   ]
  },
  {
   "cell_type": "code",
   "execution_count": null,
   "metadata": {},
   "outputs": [],
   "source": [
    "openpyxl.load_workbook('20201216.xlsx')"
   ]
  },
  {
   "cell_type": "code",
   "execution_count": null,
   "metadata": {},
   "outputs": [],
   "source": []
  }
 ],
 "metadata": {
  "kernelspec": {
   "display_name": "Python 3",
   "language": "python",
   "name": "python3"
  }
 },
 "nbformat": 4,
 "nbformat_minor": 4
}
